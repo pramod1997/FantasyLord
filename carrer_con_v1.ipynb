{
  "nbformat": 4,
  "nbformat_minor": 0,
  "metadata": {
    "colab": {
      "name": "carrer_con_v1.ipynb",
      "version": "0.3.2",
      "provenance": [],
      "collapsed_sections": [],
      "include_colab_link": true
    },
    "kernelspec": {
      "name": "python3",
      "display_name": "Python 3"
    }
  },
  "cells": [
    {
      "cell_type": "markdown",
      "metadata": {
        "id": "view-in-github",
        "colab_type": "text"
      },
      "source": [
        "<a href=\"https://colab.research.google.com/github/pramod1997/FantasyLord/blob/master/carrer_con_v1.ipynb\" target=\"_parent\"><img src=\"https://colab.research.google.com/assets/colab-badge.svg\" alt=\"Open In Colab\"/></a>"
      ]
    },
    {
      "metadata": {
        "id": "TDlJslJM3z5K",
        "colab_type": "code",
        "outputId": "c6c71310-0fdc-4aed-d5de-4cf39afaaea8",
        "colab": {
          "base_uri": "https://localhost:8080/",
          "height": 102
        }
      },
      "cell_type": "code",
      "source": [
        "!unzip career-con-2019.zip"
      ],
      "execution_count": 0,
      "outputs": [
        {
          "output_type": "stream",
          "text": [
            "Archive:  career-con-2019.zip\n",
            "  inflating: X_test.csv              \n",
            "  inflating: y_train.csv             \n",
            "  inflating: sample_submission.csv   \n",
            "  inflating: X_train.csv             \n"
          ],
          "name": "stdout"
        }
      ]
    },
    {
      "metadata": {
        "id": "2CX_HvdwGrNE",
        "colab_type": "code",
        "colab": {}
      },
      "cell_type": "code",
      "source": [
        "import pandas as pd\n",
        "import numpy as np"
      ],
      "execution_count": 0,
      "outputs": []
    },
    {
      "metadata": {
        "id": "8UHp-HJtDTr-",
        "colab_type": "code",
        "colab": {}
      },
      "cell_type": "code",
      "source": [
        "X_train = pd.read_csv('X_train.csv')\n",
        "Y_train = pd.read_csv('y_train.csv')\n",
        "X_test = pd.read_csv('X_test.csv')\n",
        "\n"
      ],
      "execution_count": 0,
      "outputs": []
    },
    {
      "metadata": {
        "id": "2ohQbTILHjdr",
        "colab_type": "code",
        "colab": {}
      },
      "cell_type": "code",
      "source": [
        "X_train.head()"
      ],
      "execution_count": 0,
      "outputs": []
    },
    {
      "metadata": {
        "id": "_sRKXraYDpK_",
        "colab_type": "code",
        "outputId": "cae09ab0-dca6-4136-ef62-ded9bd2c8a12",
        "colab": {
          "base_uri": "https://localhost:8080/",
          "height": 187
        }
      },
      "cell_type": "code",
      "source": [
        "X_train['measurement_number'].unique()  ## 128 observation/experiment  for each series id "
      ],
      "execution_count": 0,
      "outputs": [
        {
          "output_type": "execute_result",
          "data": {
            "text/plain": [
              "array([  0,   1,   2,   3,   4,   5,   6,   7,   8,   9,  10,  11,  12,\n",
              "        13,  14,  15,  16,  17,  18,  19,  20,  21,  22,  23,  24,  25,\n",
              "        26,  27,  28,  29,  30,  31,  32,  33,  34,  35,  36,  37,  38,\n",
              "        39,  40,  41,  42,  43,  44,  45,  46,  47,  48,  49,  50,  51,\n",
              "        52,  53,  54,  55,  56,  57,  58,  59,  60,  61,  62,  63,  64,\n",
              "        65,  66,  67,  68,  69,  70,  71,  72,  73,  74,  75,  76,  77,\n",
              "        78,  79,  80,  81,  82,  83,  84,  85,  86,  87,  88,  89,  90,\n",
              "        91,  92,  93,  94,  95,  96,  97,  98,  99, 100, 101, 102, 103,\n",
              "       104, 105, 106, 107, 108, 109, 110, 111, 112, 113, 114, 115, 116,\n",
              "       117, 118, 119, 120, 121, 122, 123, 124, 125, 126, 127])"
            ]
          },
          "metadata": {
            "tags": []
          },
          "execution_count": 64
        }
      ]
    },
    {
      "metadata": {
        "id": "nGB-pGrkHBTH",
        "colab_type": "code",
        "outputId": "9b7cbbf2-1b27-4813-e72a-e6aedd026789",
        "colab": {
          "base_uri": "https://localhost:8080/",
          "height": 34
        }
      },
      "cell_type": "code",
      "source": [
        "X_train['series_id'].unique()   #### 3810 observation which have label"
      ],
      "execution_count": 0,
      "outputs": [
        {
          "output_type": "execute_result",
          "data": {
            "text/plain": [
              "array([   0,    1,    2, ..., 3807, 3808, 3809])"
            ]
          },
          "metadata": {
            "tags": []
          },
          "execution_count": 72
        }
      ]
    },
    {
      "metadata": {
        "id": "VCiGwsznIDEx",
        "colab_type": "code",
        "colab": {}
      },
      "cell_type": "code",
      "source": [
        "### what is group id\n",
        "import seaborn as sns\n",
        "list(sorted(Y_train['group_id'].unique()))  ### contains output from 0 -72 :: 73 groups "
      ],
      "execution_count": 0,
      "outputs": []
    },
    {
      "metadata": {
        "id": "TZ6FMW8aIi8m",
        "colab_type": "code",
        "colab": {}
      },
      "cell_type": "code",
      "source": [
        "### need to find relation between groups and others \n",
        "\n",
        "### info from kaggle \n",
        "#shows that for each groupid, there is only one type of surface. That means, for one groupid, \n",
        "#they drove the robot on the \n",
        "#same surface (or similar) for multiple times (i.e. multiple series_id) and captured the data."
      ],
      "execution_count": 0,
      "outputs": []
    },
    {
      "metadata": {
        "id": "EqpmGsJfJDcC",
        "colab_type": "code",
        "colab": {}
      },
      "cell_type": "code",
      "source": [
        "### multi label classifier to be used \n",
        "### cv strategy  --> k fold , stratified k fold \n",
        "\n",
        "### feature engineering using concopt of physics\n",
        "\n"
      ],
      "execution_count": 0,
      "outputs": []
    },
    {
      "metadata": {
        "id": "402ORtEMKr4c",
        "colab_type": "code",
        "colab": {}
      },
      "cell_type": "code",
      "source": [
        "def quaternion_to_euler(x, y, z, w):\n",
        "    import math\n",
        "    t0 = +2.0 * (w * x + y * z)\n",
        "    t1 = +1.0 - 2.0 * (x * x + y * y)\n",
        "    X = math.atan2(t0, t1)\n",
        "\n",
        "    t2 = +2.0 * (w * y - z * x)\n",
        "    t2 = +1.0 if t2 > +1.0 else t2\n",
        "    t2 = -1.0 if t2 < -1.0 else t2\n",
        "    Y = math.asin(t2)\n",
        "\n",
        "    t3 = +2.0 * (w * z + x * y)\n",
        "    t4 = +1.0 - 2.0 * (y * y + z * z)\n",
        "    Z = math.atan2(t3, t4)\n",
        "\n",
        "    return X, Y, Z\n",
        "\n",
        "def fe(actual):\n",
        "    new = pd.DataFrame()\n",
        "    actual['total_angular_velocity'] = (actual['angular_velocity_X'] ** 2 + actual['angular_velocity_Y'] ** 2 + actual['angular_velocity_Z'] ** 2) ** 0.5\n",
        "    actual['total_linear_acceleration'] = (actual['linear_acceleration_X'] ** 2 + actual['linear_acceleration_Y'] ** 2 + actual['linear_acceleration_Z'] ** 2) ** 0.5\n",
        "    \n",
        "    actual['acc_vs_vel'] = actual['total_linear_acceleration'] / actual['total_angular_velocity']\n",
        "    \n",
        "    x, y, z, w = actual['orientation_X'].tolist(), actual['orientation_Y'].tolist(), actual['orientation_Z'].tolist(), actual['orientation_W'].tolist()\n",
        "    nx, ny, nz = [], [], []\n",
        "    for i in range(len(x)):\n",
        "        xx, yy, zz = quaternion_to_euler(x[i], y[i], z[i], w[i])\n",
        "        nx.append(xx)\n",
        "        ny.append(yy)\n",
        "        nz.append(zz)\n",
        "    \n",
        "    actual['euler_x'] = nx\n",
        "    actual['euler_y'] = ny\n",
        "    actual['euler_z'] = nz\n",
        "    \n",
        "    actual['total_angle'] = (actual['euler_x'] ** 2 + actual['euler_y'] ** 2 + actual['euler_z'] ** 2) ** 5\n",
        "    actual['angle_vs_acc'] = actual['total_angle'] / actual['total_linear_acceleration']\n",
        "    actual['angle_vs_vel'] = actual['total_angle'] / actual['total_angular_velocity']\n",
        "    \n",
        "    def f1(x):\n",
        "        return np.mean(np.diff(np.abs(np.diff(x))))\n",
        "    \n",
        "    def f2(x):\n",
        "        return np.mean(np.abs(np.diff(x)))\n",
        "    \n",
        "    for col in actual.columns:\n",
        "        if col in ['row_id', 'series_id', 'measurement_number']:\n",
        "            continue\n",
        "        new[col + '_mean'] = actual.groupby(['series_id'])[col].mean()\n",
        "        new[col + '_min'] = actual.groupby(['series_id'])[col].min()\n",
        "        new[col + '_max'] = actual.groupby(['series_id'])[col].max()\n",
        "        new[col + '_std'] = actual.groupby(['series_id'])[col].std()\n",
        "        new[col + '_max_to_min'] = new[col + '_max'] / new[col + '_min']\n",
        "        \n",
        "        # Change. 1st order.\n",
        "        new[col + '_mean_abs_change'] = actual.groupby('series_id')[col].apply(f2)\n",
        "        \n",
        "        # Change of Change. 2nd order.\n",
        "        new[col + '_mean_change_of_abs_change'] = actual.groupby('series_id')[col].apply(f1)\n",
        "        \n",
        "        new[col + '_abs_max'] = actual.groupby('series_id')[col].apply(lambda x: np.max(np.abs(x)))\n",
        "        new[col + '_abs_min'] = actual.groupby('series_id')[col].apply(lambda x: np.min(np.abs(x)))\n",
        "\n",
        "    return new"
      ],
      "execution_count": 0,
      "outputs": []
    },
    {
      "metadata": {
        "id": "Og2nm5fzL7gx",
        "colab_type": "code",
        "outputId": "03be3502-5229-40e3-f4a3-74509b7ac83f",
        "colab": {
          "base_uri": "https://localhost:8080/",
          "height": 284
        }
      },
      "cell_type": "code",
      "source": [
        "X_train = fe(X_train)\n",
        "X_test = fe(X_test)\n",
        "X_train.head()"
      ],
      "execution_count": 0,
      "outputs": [
        {
          "output_type": "execute_result",
          "data": {
            "text/html": [
              "<div>\n",
              "<style scoped>\n",
              "    .dataframe tbody tr th:only-of-type {\n",
              "        vertical-align: middle;\n",
              "    }\n",
              "\n",
              "    .dataframe tbody tr th {\n",
              "        vertical-align: top;\n",
              "    }\n",
              "\n",
              "    .dataframe thead th {\n",
              "        text-align: right;\n",
              "    }\n",
              "</style>\n",
              "<table border=\"1\" class=\"dataframe\">\n",
              "  <thead>\n",
              "    <tr style=\"text-align: right;\">\n",
              "      <th></th>\n",
              "      <th>orientation_X_mean</th>\n",
              "      <th>orientation_X_min</th>\n",
              "      <th>orientation_X_max</th>\n",
              "      <th>orientation_X_std</th>\n",
              "      <th>orientation_X_max_to_min</th>\n",
              "      <th>orientation_X_mean_abs_change</th>\n",
              "      <th>orientation_X_mean_change_of_abs_change</th>\n",
              "      <th>orientation_X_abs_max</th>\n",
              "      <th>orientation_X_abs_min</th>\n",
              "      <th>orientation_Y_mean</th>\n",
              "      <th>...</th>\n",
              "      <th>angle_vs_acc_abs_min</th>\n",
              "      <th>angle_vs_vel_mean</th>\n",
              "      <th>angle_vs_vel_min</th>\n",
              "      <th>angle_vs_vel_max</th>\n",
              "      <th>angle_vs_vel_std</th>\n",
              "      <th>angle_vs_vel_max_to_min</th>\n",
              "      <th>angle_vs_vel_mean_abs_change</th>\n",
              "      <th>angle_vs_vel_mean_change_of_abs_change</th>\n",
              "      <th>angle_vs_vel_abs_max</th>\n",
              "      <th>angle_vs_vel_abs_min</th>\n",
              "    </tr>\n",
              "    <tr>\n",
              "      <th>series_id</th>\n",
              "      <th></th>\n",
              "      <th></th>\n",
              "      <th></th>\n",
              "      <th></th>\n",
              "      <th></th>\n",
              "      <th></th>\n",
              "      <th></th>\n",
              "      <th></th>\n",
              "      <th></th>\n",
              "      <th></th>\n",
              "      <th></th>\n",
              "      <th></th>\n",
              "      <th></th>\n",
              "      <th></th>\n",
              "      <th></th>\n",
              "      <th></th>\n",
              "      <th></th>\n",
              "      <th></th>\n",
              "      <th></th>\n",
              "      <th></th>\n",
              "      <th></th>\n",
              "    </tr>\n",
              "  </thead>\n",
              "  <tbody>\n",
              "    <tr>\n",
              "      <th>0</th>\n",
              "      <td>-0.758666</td>\n",
              "      <td>-0.75953</td>\n",
              "      <td>-0.75822</td>\n",
              "      <td>0.000363</td>\n",
              "      <td>0.998275</td>\n",
              "      <td>0.000015</td>\n",
              "      <td>2.380952e-07</td>\n",
              "      <td>0.75953</td>\n",
              "      <td>0.75822</td>\n",
              "      <td>-0.634008</td>\n",
              "      <td>...</td>\n",
              "      <td>8090.592033</td>\n",
              "      <td>2.278501e+06</td>\n",
              "      <td>6.255962e+05</td>\n",
              "      <td>9.597909e+06</td>\n",
              "      <td>1.409996e+06</td>\n",
              "      <td>15.342019</td>\n",
              "      <td>1.198969e+06</td>\n",
              "      <td>8924.000999</td>\n",
              "      <td>9.597909e+06</td>\n",
              "      <td>6.255962e+05</td>\n",
              "    </tr>\n",
              "    <tr>\n",
              "      <th>1</th>\n",
              "      <td>-0.958606</td>\n",
              "      <td>-0.95896</td>\n",
              "      <td>-0.95837</td>\n",
              "      <td>0.000151</td>\n",
              "      <td>0.999385</td>\n",
              "      <td>0.000023</td>\n",
              "      <td>-4.761905e-07</td>\n",
              "      <td>0.95896</td>\n",
              "      <td>0.95837</td>\n",
              "      <td>0.241867</td>\n",
              "      <td>...</td>\n",
              "      <td>2339.913394</td>\n",
              "      <td>4.613413e+05</td>\n",
              "      <td>1.377975e+05</td>\n",
              "      <td>1.957088e+06</td>\n",
              "      <td>2.979271e+05</td>\n",
              "      <td>14.202636</td>\n",
              "      <td>2.049951e+05</td>\n",
              "      <td>569.164381</td>\n",
              "      <td>1.957088e+06</td>\n",
              "      <td>1.377975e+05</td>\n",
              "    </tr>\n",
              "    <tr>\n",
              "      <th>2</th>\n",
              "      <td>-0.512057</td>\n",
              "      <td>-0.51434</td>\n",
              "      <td>-0.50944</td>\n",
              "      <td>0.001377</td>\n",
              "      <td>0.990473</td>\n",
              "      <td>0.000041</td>\n",
              "      <td>0.000000e+00</td>\n",
              "      <td>0.51434</td>\n",
              "      <td>0.50944</td>\n",
              "      <td>-0.846171</td>\n",
              "      <td>...</td>\n",
              "      <td>22485.416514</td>\n",
              "      <td>5.372327e+06</td>\n",
              "      <td>1.674839e+06</td>\n",
              "      <td>2.866679e+07</td>\n",
              "      <td>3.802655e+06</td>\n",
              "      <td>17.116144</td>\n",
              "      <td>2.355426e+06</td>\n",
              "      <td>-9135.272306</td>\n",
              "      <td>2.866679e+07</td>\n",
              "      <td>1.674839e+06</td>\n",
              "    </tr>\n",
              "    <tr>\n",
              "      <th>3</th>\n",
              "      <td>-0.939169</td>\n",
              "      <td>-0.93968</td>\n",
              "      <td>-0.93884</td>\n",
              "      <td>0.000227</td>\n",
              "      <td>0.999106</td>\n",
              "      <td>0.000026</td>\n",
              "      <td>-6.349206e-07</td>\n",
              "      <td>0.93968</td>\n",
              "      <td>0.93884</td>\n",
              "      <td>0.310140</td>\n",
              "      <td>...</td>\n",
              "      <td>2157.840573</td>\n",
              "      <td>4.765087e+05</td>\n",
              "      <td>8.652378e+04</td>\n",
              "      <td>3.121275e+06</td>\n",
              "      <td>4.627398e+05</td>\n",
              "      <td>36.074189</td>\n",
              "      <td>2.981020e+05</td>\n",
              "      <td>17412.401283</td>\n",
              "      <td>3.121275e+06</td>\n",
              "      <td>8.652378e+04</td>\n",
              "    </tr>\n",
              "    <tr>\n",
              "      <th>4</th>\n",
              "      <td>-0.891301</td>\n",
              "      <td>-0.89689</td>\n",
              "      <td>-0.88673</td>\n",
              "      <td>0.002955</td>\n",
              "      <td>0.988672</td>\n",
              "      <td>0.000080</td>\n",
              "      <td>7.936508e-08</td>\n",
              "      <td>0.89689</td>\n",
              "      <td>0.88673</td>\n",
              "      <td>0.428144</td>\n",
              "      <td>...</td>\n",
              "      <td>4804.885067</td>\n",
              "      <td>3.694817e+05</td>\n",
              "      <td>2.330043e+05</td>\n",
              "      <td>6.165090e+05</td>\n",
              "      <td>9.199986e+04</td>\n",
              "      <td>2.645912</td>\n",
              "      <td>2.281891e+04</td>\n",
              "      <td>-70.793166</td>\n",
              "      <td>6.165090e+05</td>\n",
              "      <td>2.330043e+05</td>\n",
              "    </tr>\n",
              "  </tbody>\n",
              "</table>\n",
              "<p>5 rows × 171 columns</p>\n",
              "</div>"
            ],
            "text/plain": [
              "           orientation_X_mean  orientation_X_min  orientation_X_max  \\\n",
              "series_id                                                             \n",
              "0                   -0.758666           -0.75953           -0.75822   \n",
              "1                   -0.958606           -0.95896           -0.95837   \n",
              "2                   -0.512057           -0.51434           -0.50944   \n",
              "3                   -0.939169           -0.93968           -0.93884   \n",
              "4                   -0.891301           -0.89689           -0.88673   \n",
              "\n",
              "           orientation_X_std  orientation_X_max_to_min  \\\n",
              "series_id                                                \n",
              "0                   0.000363                  0.998275   \n",
              "1                   0.000151                  0.999385   \n",
              "2                   0.001377                  0.990473   \n",
              "3                   0.000227                  0.999106   \n",
              "4                   0.002955                  0.988672   \n",
              "\n",
              "           orientation_X_mean_abs_change  \\\n",
              "series_id                                  \n",
              "0                               0.000015   \n",
              "1                               0.000023   \n",
              "2                               0.000041   \n",
              "3                               0.000026   \n",
              "4                               0.000080   \n",
              "\n",
              "           orientation_X_mean_change_of_abs_change  orientation_X_abs_max  \\\n",
              "series_id                                                                   \n",
              "0                                     2.380952e-07                0.75953   \n",
              "1                                    -4.761905e-07                0.95896   \n",
              "2                                     0.000000e+00                0.51434   \n",
              "3                                    -6.349206e-07                0.93968   \n",
              "4                                     7.936508e-08                0.89689   \n",
              "\n",
              "           orientation_X_abs_min  orientation_Y_mean          ...           \\\n",
              "series_id                                                     ...            \n",
              "0                        0.75822           -0.634008          ...            \n",
              "1                        0.95837            0.241867          ...            \n",
              "2                        0.50944           -0.846171          ...            \n",
              "3                        0.93884            0.310140          ...            \n",
              "4                        0.88673            0.428144          ...            \n",
              "\n",
              "           angle_vs_acc_abs_min  angle_vs_vel_mean  angle_vs_vel_min  \\\n",
              "series_id                                                              \n",
              "0                   8090.592033       2.278501e+06      6.255962e+05   \n",
              "1                   2339.913394       4.613413e+05      1.377975e+05   \n",
              "2                  22485.416514       5.372327e+06      1.674839e+06   \n",
              "3                   2157.840573       4.765087e+05      8.652378e+04   \n",
              "4                   4804.885067       3.694817e+05      2.330043e+05   \n",
              "\n",
              "           angle_vs_vel_max  angle_vs_vel_std  angle_vs_vel_max_to_min  \\\n",
              "series_id                                                                \n",
              "0              9.597909e+06      1.409996e+06                15.342019   \n",
              "1              1.957088e+06      2.979271e+05                14.202636   \n",
              "2              2.866679e+07      3.802655e+06                17.116144   \n",
              "3              3.121275e+06      4.627398e+05                36.074189   \n",
              "4              6.165090e+05      9.199986e+04                 2.645912   \n",
              "\n",
              "           angle_vs_vel_mean_abs_change  \\\n",
              "series_id                                 \n",
              "0                          1.198969e+06   \n",
              "1                          2.049951e+05   \n",
              "2                          2.355426e+06   \n",
              "3                          2.981020e+05   \n",
              "4                          2.281891e+04   \n",
              "\n",
              "           angle_vs_vel_mean_change_of_abs_change  angle_vs_vel_abs_max  \\\n",
              "series_id                                                                 \n",
              "0                                     8924.000999          9.597909e+06   \n",
              "1                                      569.164381          1.957088e+06   \n",
              "2                                    -9135.272306          2.866679e+07   \n",
              "3                                    17412.401283          3.121275e+06   \n",
              "4                                      -70.793166          6.165090e+05   \n",
              "\n",
              "           angle_vs_vel_abs_min  \n",
              "series_id                        \n",
              "0                  6.255962e+05  \n",
              "1                  1.377975e+05  \n",
              "2                  1.674839e+06  \n",
              "3                  8.652378e+04  \n",
              "4                  2.330043e+05  \n",
              "\n",
              "[5 rows x 171 columns]"
            ]
          },
          "metadata": {
            "tags": []
          },
          "execution_count": 5
        }
      ]
    },
    {
      "metadata": {
        "id": "wOAexb9jFWHa",
        "colab_type": "code",
        "outputId": "5e9c024e-84d4-41dc-9b1d-8dda7accc85d",
        "colab": {
          "base_uri": "https://localhost:8080/",
          "height": 34
        }
      },
      "cell_type": "code",
      "source": [
        "import seaborn as sns\n",
        "len(X_train.index), len(X_test.index)\n"
      ],
      "execution_count": 0,
      "outputs": [
        {
          "output_type": "execute_result",
          "data": {
            "text/plain": [
              "(3810, 3816)"
            ]
          },
          "metadata": {
            "tags": []
          },
          "execution_count": 72
        }
      ]
    },
    {
      "metadata": {
        "id": "XS8M2qgRluSI",
        "colab_type": "code",
        "outputId": "96cb7f9c-1344-4200-debc-78922a6e6e2c",
        "colab": {
          "base_uri": "https://localhost:8080/",
          "height": 221
        }
      },
      "cell_type": "code",
      "source": [
        "### heirarchichal access it index\n",
        "X_train.index\n",
        "X_train.columns"
      ],
      "execution_count": 0,
      "outputs": [
        {
          "output_type": "execute_result",
          "data": {
            "text/plain": [
              "Index(['orientation_X_mean', 'orientation_X_min', 'orientation_X_max',\n",
              "       'orientation_X_std', 'orientation_X_max_to_min',\n",
              "       'orientation_X_mean_abs_change',\n",
              "       'orientation_X_mean_change_of_abs_change', 'orientation_X_abs_max',\n",
              "       'orientation_X_abs_min', 'orientation_Y_mean',\n",
              "       ...\n",
              "       'angle_vs_acc_abs_min', 'angle_vs_vel_mean', 'angle_vs_vel_min',\n",
              "       'angle_vs_vel_max', 'angle_vs_vel_std', 'angle_vs_vel_max_to_min',\n",
              "       'angle_vs_vel_mean_abs_change',\n",
              "       'angle_vs_vel_mean_change_of_abs_change', 'angle_vs_vel_abs_max',\n",
              "       'angle_vs_vel_abs_min'],\n",
              "      dtype='object', length=171)"
            ]
          },
          "metadata": {
            "tags": []
          },
          "execution_count": 6
        }
      ]
    },
    {
      "metadata": {
        "id": "1cKuFpY-mCqI",
        "colab_type": "code",
        "outputId": "248e27f9-1020-4e7c-eda6-91c2beb25e7b",
        "colab": {
          "base_uri": "https://localhost:8080/",
          "height": 68
        }
      },
      "cell_type": "code",
      "source": [
        "Y_train['surface'].unique()"
      ],
      "execution_count": 0,
      "outputs": [
        {
          "output_type": "execute_result",
          "data": {
            "text/plain": [
              "array(['fine_concrete', 'concrete', 'soft_tiles', 'tiled', 'soft_pvc',\n",
              "       'hard_tiles_large_space', 'carpet', 'hard_tiles', 'wood'],\n",
              "      dtype=object)"
            ]
          },
          "metadata": {
            "tags": []
          },
          "execution_count": 79
        }
      ]
    },
    {
      "metadata": {
        "id": "5IDQIfJqmMf-",
        "colab_type": "code",
        "colab": {}
      },
      "cell_type": "code",
      "source": [
        "dict = {'fine_concrete':0 , 'concrete':1, 'soft_tiles':2, 'tiled':3, 'soft_pvc':4,\n",
        "       'hard_tiles_large_space':5, 'carpet':6, 'hard_tiles':7, 'wood':8}\n",
        "\n",
        "Y_train['surface'].replace(dict, inplace = True)"
      ],
      "execution_count": 0,
      "outputs": []
    },
    {
      "metadata": {
        "id": "pcfqznAFpUGq",
        "colab_type": "code",
        "colab": {}
      },
      "cell_type": "code",
      "source": [
        "### now we create models "
      ],
      "execution_count": 0,
      "outputs": []
    },
    {
      "metadata": {
        "id": "N8COMxnQrKsF",
        "colab_type": "code",
        "colab": {}
      },
      "cell_type": "code",
      "source": [
        "### models :::: multi class labels \n",
        "\n",
        "## 1 . knn \n",
        "## 2 . logistic \n",
        "## 3 . random forest\n",
        "## 4 . xgboost --> gets highest weith\n",
        "## 5 . bgm \n",
        "\n"
      ],
      "execution_count": 0,
      "outputs": []
    },
    {
      "metadata": {
        "id": "HOuNc5X2t_q0",
        "colab_type": "code",
        "outputId": "85c329c7-03c3-406a-ba0a-778bdad96fab",
        "colab": {
          "base_uri": "https://localhost:8080/",
          "height": 221
        }
      },
      "cell_type": "code",
      "source": [
        "X_train.columns"
      ],
      "execution_count": 0,
      "outputs": [
        {
          "output_type": "execute_result",
          "data": {
            "text/plain": [
              "Index(['orientation_X_mean', 'orientation_X_min', 'orientation_X_max',\n",
              "       'orientation_X_std', 'orientation_X_max_to_min',\n",
              "       'orientation_X_mean_abs_change',\n",
              "       'orientation_X_mean_change_of_abs_change', 'orientation_X_abs_max',\n",
              "       'orientation_X_abs_min', 'orientation_Y_mean',\n",
              "       ...\n",
              "       'angle_vs_acc_abs_min', 'angle_vs_vel_mean', 'angle_vs_vel_min',\n",
              "       'angle_vs_vel_max', 'angle_vs_vel_std', 'angle_vs_vel_max_to_min',\n",
              "       'angle_vs_vel_mean_abs_change',\n",
              "       'angle_vs_vel_mean_change_of_abs_change', 'angle_vs_vel_abs_max',\n",
              "       'angle_vs_vel_abs_min'],\n",
              "      dtype='object', length=171)"
            ]
          },
          "metadata": {
            "tags": []
          },
          "execution_count": 59
        }
      ]
    },
    {
      "metadata": {
        "id": "EhMvn7nmrcpk",
        "colab_type": "code",
        "colab": {}
      },
      "cell_type": "code",
      "source": [
        "from sklearn.neighbors import KNeighborsClassifier\n",
        "from sklearn.linear_model import LogisticRegression \n",
        "from sklearn.ensemble import RandomForestClassifier\n",
        "import xgboost as xgb\n",
        "from sklearn.model_selection import KFold\n",
        "from sklearn.metrics import accuracy_score\n",
        "import lightgbm as gbm\n",
        "\n",
        "\n"
      ],
      "execution_count": 0,
      "outputs": []
    },
    {
      "metadata": {
        "id": "wdj8rwG270cz",
        "colab_type": "code",
        "colab": {}
      },
      "cell_type": "code",
      "source": [
        "### knn needs some LDA or PCA on the data befreo making prediction \n",
        "### ensemble models are not affected by cdorrelated features"
      ],
      "execution_count": 0,
      "outputs": []
    },
    {
      "metadata": {
        "id": "LrgZ7Lz3qmLB",
        "colab_type": "code",
        "outputId": "23529ea0-b658-4d81-d80f-405df1a42d26",
        "colab": {
          "base_uri": "https://localhost:8080/",
          "height": 2019
        }
      },
      "cell_type": "code",
      "source": [
        "## grid search -----> DO THIS TO GET THE MODEL FOR XGBOOST\n",
        "from sklearn.model_selection import GridSearchCV\n",
        "model = xgb.XGBClassifier(objective='multi:softprob', nthread=4,  seed=39)\n",
        "\n",
        "params = {  'learning_rate':[0.1,0.01, 0.5], \n",
        "             'n_estimators':[100,200], \n",
        "              'max_depth':[5,10,15],\n",
        "               \n",
        "              'gamma':[1,0.1,0.01]                        \n",
        "          }\n",
        "clf  = GridSearchCV( model ,params,cv =5   )\n",
        "clf.fit(X_train, Y_train['surface'])\n",
        "clf.best_params_"
      ],
      "execution_count": 0,
      "outputs": [
        {
          "output_type": "error",
          "ename": "KeyboardInterrupt",
          "evalue": "ignored",
          "traceback": [
            "\u001b[0;31m---------------------------------------------------------------------------\u001b[0m",
            "\u001b[0;31mKeyboardInterrupt\u001b[0m                         Traceback (most recent call last)",
            "\u001b[0;32m<ipython-input-9-369fadbfb994>\u001b[0m in \u001b[0;36m<module>\u001b[0;34m()\u001b[0m\n\u001b[1;32m      9\u001b[0m           }\n\u001b[1;32m     10\u001b[0m \u001b[0mclf\u001b[0m  \u001b[0;34m=\u001b[0m \u001b[0mGridSearchCV\u001b[0m\u001b[0;34m(\u001b[0m \u001b[0mmodel\u001b[0m \u001b[0;34m,\u001b[0m\u001b[0mparams\u001b[0m\u001b[0;34m,\u001b[0m\u001b[0mcv\u001b[0m \u001b[0;34m=\u001b[0m\u001b[0;36m5\u001b[0m   \u001b[0;34m)\u001b[0m\u001b[0;34m\u001b[0m\u001b[0;34m\u001b[0m\u001b[0m\n\u001b[0;32m---> 11\u001b[0;31m \u001b[0mclf\u001b[0m\u001b[0;34m.\u001b[0m\u001b[0mfit\u001b[0m\u001b[0;34m(\u001b[0m\u001b[0mX_train\u001b[0m\u001b[0;34m,\u001b[0m \u001b[0mY_train\u001b[0m\u001b[0;34m[\u001b[0m\u001b[0;34m'surface'\u001b[0m\u001b[0;34m]\u001b[0m\u001b[0;34m)\u001b[0m\u001b[0;34m\u001b[0m\u001b[0;34m\u001b[0m\u001b[0m\n\u001b[0m\u001b[1;32m     12\u001b[0m \u001b[0mclf\u001b[0m\u001b[0;34m.\u001b[0m\u001b[0mbest_params_\u001b[0m\u001b[0;34m\u001b[0m\u001b[0;34m\u001b[0m\u001b[0m\n",
            "\u001b[0;32m/usr/local/lib/python3.6/dist-packages/sklearn/model_selection/_search.py\u001b[0m in \u001b[0;36mfit\u001b[0;34m(self, X, y, groups, **fit_params)\u001b[0m\n\u001b[1;32m    720\u001b[0m                 \u001b[0;32mreturn\u001b[0m \u001b[0mresults_container\u001b[0m\u001b[0;34m[\u001b[0m\u001b[0;36m0\u001b[0m\u001b[0;34m]\u001b[0m\u001b[0;34m\u001b[0m\u001b[0;34m\u001b[0m\u001b[0m\n\u001b[1;32m    721\u001b[0m \u001b[0;34m\u001b[0m\u001b[0m\n\u001b[0;32m--> 722\u001b[0;31m             \u001b[0mself\u001b[0m\u001b[0;34m.\u001b[0m\u001b[0m_run_search\u001b[0m\u001b[0;34m(\u001b[0m\u001b[0mevaluate_candidates\u001b[0m\u001b[0;34m)\u001b[0m\u001b[0;34m\u001b[0m\u001b[0;34m\u001b[0m\u001b[0m\n\u001b[0m\u001b[1;32m    723\u001b[0m \u001b[0;34m\u001b[0m\u001b[0m\n\u001b[1;32m    724\u001b[0m         \u001b[0mresults\u001b[0m \u001b[0;34m=\u001b[0m \u001b[0mresults_container\u001b[0m\u001b[0;34m[\u001b[0m\u001b[0;36m0\u001b[0m\u001b[0;34m]\u001b[0m\u001b[0;34m\u001b[0m\u001b[0;34m\u001b[0m\u001b[0m\n",
            "\u001b[0;32m/usr/local/lib/python3.6/dist-packages/sklearn/model_selection/_search.py\u001b[0m in \u001b[0;36m_run_search\u001b[0;34m(self, evaluate_candidates)\u001b[0m\n\u001b[1;32m   1189\u001b[0m     \u001b[0;32mdef\u001b[0m \u001b[0m_run_search\u001b[0m\u001b[0;34m(\u001b[0m\u001b[0mself\u001b[0m\u001b[0;34m,\u001b[0m \u001b[0mevaluate_candidates\u001b[0m\u001b[0;34m)\u001b[0m\u001b[0;34m:\u001b[0m\u001b[0;34m\u001b[0m\u001b[0;34m\u001b[0m\u001b[0m\n\u001b[1;32m   1190\u001b[0m         \u001b[0;34m\"\"\"Search all candidates in param_grid\"\"\"\u001b[0m\u001b[0;34m\u001b[0m\u001b[0;34m\u001b[0m\u001b[0m\n\u001b[0;32m-> 1191\u001b[0;31m         \u001b[0mevaluate_candidates\u001b[0m\u001b[0;34m(\u001b[0m\u001b[0mParameterGrid\u001b[0m\u001b[0;34m(\u001b[0m\u001b[0mself\u001b[0m\u001b[0;34m.\u001b[0m\u001b[0mparam_grid\u001b[0m\u001b[0;34m)\u001b[0m\u001b[0;34m)\u001b[0m\u001b[0;34m\u001b[0m\u001b[0;34m\u001b[0m\u001b[0m\n\u001b[0m\u001b[1;32m   1192\u001b[0m \u001b[0;34m\u001b[0m\u001b[0m\n\u001b[1;32m   1193\u001b[0m \u001b[0;34m\u001b[0m\u001b[0m\n",
            "\u001b[0;32m/usr/local/lib/python3.6/dist-packages/sklearn/model_selection/_search.py\u001b[0m in \u001b[0;36mevaluate_candidates\u001b[0;34m(candidate_params)\u001b[0m\n\u001b[1;32m    709\u001b[0m                                \u001b[0;32mfor\u001b[0m \u001b[0mparameters\u001b[0m\u001b[0;34m,\u001b[0m \u001b[0;34m(\u001b[0m\u001b[0mtrain\u001b[0m\u001b[0;34m,\u001b[0m \u001b[0mtest\u001b[0m\u001b[0;34m)\u001b[0m\u001b[0;34m\u001b[0m\u001b[0;34m\u001b[0m\u001b[0m\n\u001b[1;32m    710\u001b[0m                                in product(candidate_params,\n\u001b[0;32m--> 711\u001b[0;31m                                           cv.split(X, y, groups)))\n\u001b[0m\u001b[1;32m    712\u001b[0m \u001b[0;34m\u001b[0m\u001b[0m\n\u001b[1;32m    713\u001b[0m                 \u001b[0mall_candidate_params\u001b[0m\u001b[0;34m.\u001b[0m\u001b[0mextend\u001b[0m\u001b[0;34m(\u001b[0m\u001b[0mcandidate_params\u001b[0m\u001b[0;34m)\u001b[0m\u001b[0;34m\u001b[0m\u001b[0;34m\u001b[0m\u001b[0m\n",
            "\u001b[0;32m/usr/local/lib/python3.6/dist-packages/sklearn/externals/joblib/parallel.py\u001b[0m in \u001b[0;36m__call__\u001b[0;34m(self, iterable)\u001b[0m\n\u001b[1;32m    918\u001b[0m                 \u001b[0mself\u001b[0m\u001b[0;34m.\u001b[0m\u001b[0m_iterating\u001b[0m \u001b[0;34m=\u001b[0m \u001b[0mself\u001b[0m\u001b[0;34m.\u001b[0m\u001b[0m_original_iterator\u001b[0m \u001b[0;32mis\u001b[0m \u001b[0;32mnot\u001b[0m \u001b[0;32mNone\u001b[0m\u001b[0;34m\u001b[0m\u001b[0;34m\u001b[0m\u001b[0m\n\u001b[1;32m    919\u001b[0m \u001b[0;34m\u001b[0m\u001b[0m\n\u001b[0;32m--> 920\u001b[0;31m             \u001b[0;32mwhile\u001b[0m \u001b[0mself\u001b[0m\u001b[0;34m.\u001b[0m\u001b[0mdispatch_one_batch\u001b[0m\u001b[0;34m(\u001b[0m\u001b[0miterator\u001b[0m\u001b[0;34m)\u001b[0m\u001b[0;34m:\u001b[0m\u001b[0;34m\u001b[0m\u001b[0;34m\u001b[0m\u001b[0m\n\u001b[0m\u001b[1;32m    921\u001b[0m                 \u001b[0;32mpass\u001b[0m\u001b[0;34m\u001b[0m\u001b[0;34m\u001b[0m\u001b[0m\n\u001b[1;32m    922\u001b[0m \u001b[0;34m\u001b[0m\u001b[0m\n",
            "\u001b[0;32m/usr/local/lib/python3.6/dist-packages/sklearn/externals/joblib/parallel.py\u001b[0m in \u001b[0;36mdispatch_one_batch\u001b[0;34m(self, iterator)\u001b[0m\n\u001b[1;32m    757\u001b[0m                 \u001b[0;32mreturn\u001b[0m \u001b[0;32mFalse\u001b[0m\u001b[0;34m\u001b[0m\u001b[0;34m\u001b[0m\u001b[0m\n\u001b[1;32m    758\u001b[0m             \u001b[0;32melse\u001b[0m\u001b[0;34m:\u001b[0m\u001b[0;34m\u001b[0m\u001b[0;34m\u001b[0m\u001b[0m\n\u001b[0;32m--> 759\u001b[0;31m                 \u001b[0mself\u001b[0m\u001b[0;34m.\u001b[0m\u001b[0m_dispatch\u001b[0m\u001b[0;34m(\u001b[0m\u001b[0mtasks\u001b[0m\u001b[0;34m)\u001b[0m\u001b[0;34m\u001b[0m\u001b[0;34m\u001b[0m\u001b[0m\n\u001b[0m\u001b[1;32m    760\u001b[0m                 \u001b[0;32mreturn\u001b[0m \u001b[0;32mTrue\u001b[0m\u001b[0;34m\u001b[0m\u001b[0;34m\u001b[0m\u001b[0m\n\u001b[1;32m    761\u001b[0m \u001b[0;34m\u001b[0m\u001b[0m\n",
            "\u001b[0;32m/usr/local/lib/python3.6/dist-packages/sklearn/externals/joblib/parallel.py\u001b[0m in \u001b[0;36m_dispatch\u001b[0;34m(self, batch)\u001b[0m\n\u001b[1;32m    714\u001b[0m         \u001b[0;32mwith\u001b[0m \u001b[0mself\u001b[0m\u001b[0;34m.\u001b[0m\u001b[0m_lock\u001b[0m\u001b[0;34m:\u001b[0m\u001b[0;34m\u001b[0m\u001b[0;34m\u001b[0m\u001b[0m\n\u001b[1;32m    715\u001b[0m             \u001b[0mjob_idx\u001b[0m \u001b[0;34m=\u001b[0m \u001b[0mlen\u001b[0m\u001b[0;34m(\u001b[0m\u001b[0mself\u001b[0m\u001b[0;34m.\u001b[0m\u001b[0m_jobs\u001b[0m\u001b[0;34m)\u001b[0m\u001b[0;34m\u001b[0m\u001b[0;34m\u001b[0m\u001b[0m\n\u001b[0;32m--> 716\u001b[0;31m             \u001b[0mjob\u001b[0m \u001b[0;34m=\u001b[0m \u001b[0mself\u001b[0m\u001b[0;34m.\u001b[0m\u001b[0m_backend\u001b[0m\u001b[0;34m.\u001b[0m\u001b[0mapply_async\u001b[0m\u001b[0;34m(\u001b[0m\u001b[0mbatch\u001b[0m\u001b[0;34m,\u001b[0m \u001b[0mcallback\u001b[0m\u001b[0;34m=\u001b[0m\u001b[0mcb\u001b[0m\u001b[0;34m)\u001b[0m\u001b[0;34m\u001b[0m\u001b[0;34m\u001b[0m\u001b[0m\n\u001b[0m\u001b[1;32m    717\u001b[0m             \u001b[0;31m# A job can complete so quickly than its callback is\u001b[0m\u001b[0;34m\u001b[0m\u001b[0;34m\u001b[0m\u001b[0;34m\u001b[0m\u001b[0m\n\u001b[1;32m    718\u001b[0m             \u001b[0;31m# called before we get here, causing self._jobs to\u001b[0m\u001b[0;34m\u001b[0m\u001b[0;34m\u001b[0m\u001b[0;34m\u001b[0m\u001b[0m\n",
            "\u001b[0;32m/usr/local/lib/python3.6/dist-packages/sklearn/externals/joblib/_parallel_backends.py\u001b[0m in \u001b[0;36mapply_async\u001b[0;34m(self, func, callback)\u001b[0m\n\u001b[1;32m    180\u001b[0m     \u001b[0;32mdef\u001b[0m \u001b[0mapply_async\u001b[0m\u001b[0;34m(\u001b[0m\u001b[0mself\u001b[0m\u001b[0;34m,\u001b[0m \u001b[0mfunc\u001b[0m\u001b[0;34m,\u001b[0m \u001b[0mcallback\u001b[0m\u001b[0;34m=\u001b[0m\u001b[0;32mNone\u001b[0m\u001b[0;34m)\u001b[0m\u001b[0;34m:\u001b[0m\u001b[0;34m\u001b[0m\u001b[0;34m\u001b[0m\u001b[0m\n\u001b[1;32m    181\u001b[0m         \u001b[0;34m\"\"\"Schedule a func to be run\"\"\"\u001b[0m\u001b[0;34m\u001b[0m\u001b[0;34m\u001b[0m\u001b[0m\n\u001b[0;32m--> 182\u001b[0;31m         \u001b[0mresult\u001b[0m \u001b[0;34m=\u001b[0m \u001b[0mImmediateResult\u001b[0m\u001b[0;34m(\u001b[0m\u001b[0mfunc\u001b[0m\u001b[0;34m)\u001b[0m\u001b[0;34m\u001b[0m\u001b[0;34m\u001b[0m\u001b[0m\n\u001b[0m\u001b[1;32m    183\u001b[0m         \u001b[0;32mif\u001b[0m \u001b[0mcallback\u001b[0m\u001b[0;34m:\u001b[0m\u001b[0;34m\u001b[0m\u001b[0;34m\u001b[0m\u001b[0m\n\u001b[1;32m    184\u001b[0m             \u001b[0mcallback\u001b[0m\u001b[0;34m(\u001b[0m\u001b[0mresult\u001b[0m\u001b[0;34m)\u001b[0m\u001b[0;34m\u001b[0m\u001b[0;34m\u001b[0m\u001b[0m\n",
            "\u001b[0;32m/usr/local/lib/python3.6/dist-packages/sklearn/externals/joblib/_parallel_backends.py\u001b[0m in \u001b[0;36m__init__\u001b[0;34m(self, batch)\u001b[0m\n\u001b[1;32m    547\u001b[0m         \u001b[0;31m# Don't delay the application, to avoid keeping the input\u001b[0m\u001b[0;34m\u001b[0m\u001b[0;34m\u001b[0m\u001b[0;34m\u001b[0m\u001b[0m\n\u001b[1;32m    548\u001b[0m         \u001b[0;31m# arguments in memory\u001b[0m\u001b[0;34m\u001b[0m\u001b[0;34m\u001b[0m\u001b[0;34m\u001b[0m\u001b[0m\n\u001b[0;32m--> 549\u001b[0;31m         \u001b[0mself\u001b[0m\u001b[0;34m.\u001b[0m\u001b[0mresults\u001b[0m \u001b[0;34m=\u001b[0m \u001b[0mbatch\u001b[0m\u001b[0;34m(\u001b[0m\u001b[0;34m)\u001b[0m\u001b[0;34m\u001b[0m\u001b[0;34m\u001b[0m\u001b[0m\n\u001b[0m\u001b[1;32m    550\u001b[0m \u001b[0;34m\u001b[0m\u001b[0m\n\u001b[1;32m    551\u001b[0m     \u001b[0;32mdef\u001b[0m \u001b[0mget\u001b[0m\u001b[0;34m(\u001b[0m\u001b[0mself\u001b[0m\u001b[0;34m)\u001b[0m\u001b[0;34m:\u001b[0m\u001b[0;34m\u001b[0m\u001b[0;34m\u001b[0m\u001b[0m\n",
            "\u001b[0;32m/usr/local/lib/python3.6/dist-packages/sklearn/externals/joblib/parallel.py\u001b[0m in \u001b[0;36m__call__\u001b[0;34m(self)\u001b[0m\n\u001b[1;32m    223\u001b[0m         \u001b[0;32mwith\u001b[0m \u001b[0mparallel_backend\u001b[0m\u001b[0;34m(\u001b[0m\u001b[0mself\u001b[0m\u001b[0;34m.\u001b[0m\u001b[0m_backend\u001b[0m\u001b[0;34m,\u001b[0m \u001b[0mn_jobs\u001b[0m\u001b[0;34m=\u001b[0m\u001b[0mself\u001b[0m\u001b[0;34m.\u001b[0m\u001b[0m_n_jobs\u001b[0m\u001b[0;34m)\u001b[0m\u001b[0;34m:\u001b[0m\u001b[0;34m\u001b[0m\u001b[0;34m\u001b[0m\u001b[0m\n\u001b[1;32m    224\u001b[0m             return [func(*args, **kwargs)\n\u001b[0;32m--> 225\u001b[0;31m                     for func, args, kwargs in self.items]\n\u001b[0m\u001b[1;32m    226\u001b[0m \u001b[0;34m\u001b[0m\u001b[0m\n\u001b[1;32m    227\u001b[0m     \u001b[0;32mdef\u001b[0m \u001b[0m__len__\u001b[0m\u001b[0;34m(\u001b[0m\u001b[0mself\u001b[0m\u001b[0;34m)\u001b[0m\u001b[0;34m:\u001b[0m\u001b[0;34m\u001b[0m\u001b[0;34m\u001b[0m\u001b[0m\n",
            "\u001b[0;32m/usr/local/lib/python3.6/dist-packages/sklearn/externals/joblib/parallel.py\u001b[0m in \u001b[0;36m<listcomp>\u001b[0;34m(.0)\u001b[0m\n\u001b[1;32m    223\u001b[0m         \u001b[0;32mwith\u001b[0m \u001b[0mparallel_backend\u001b[0m\u001b[0;34m(\u001b[0m\u001b[0mself\u001b[0m\u001b[0;34m.\u001b[0m\u001b[0m_backend\u001b[0m\u001b[0;34m,\u001b[0m \u001b[0mn_jobs\u001b[0m\u001b[0;34m=\u001b[0m\u001b[0mself\u001b[0m\u001b[0;34m.\u001b[0m\u001b[0m_n_jobs\u001b[0m\u001b[0;34m)\u001b[0m\u001b[0;34m:\u001b[0m\u001b[0;34m\u001b[0m\u001b[0;34m\u001b[0m\u001b[0m\n\u001b[1;32m    224\u001b[0m             return [func(*args, **kwargs)\n\u001b[0;32m--> 225\u001b[0;31m                     for func, args, kwargs in self.items]\n\u001b[0m\u001b[1;32m    226\u001b[0m \u001b[0;34m\u001b[0m\u001b[0m\n\u001b[1;32m    227\u001b[0m     \u001b[0;32mdef\u001b[0m \u001b[0m__len__\u001b[0m\u001b[0;34m(\u001b[0m\u001b[0mself\u001b[0m\u001b[0;34m)\u001b[0m\u001b[0;34m:\u001b[0m\u001b[0;34m\u001b[0m\u001b[0;34m\u001b[0m\u001b[0m\n",
            "\u001b[0;32m/usr/local/lib/python3.6/dist-packages/sklearn/model_selection/_validation.py\u001b[0m in \u001b[0;36m_fit_and_score\u001b[0;34m(estimator, X, y, scorer, train, test, verbose, parameters, fit_params, return_train_score, return_parameters, return_n_test_samples, return_times, return_estimator, error_score)\u001b[0m\n\u001b[1;32m    526\u001b[0m             \u001b[0mestimator\u001b[0m\u001b[0;34m.\u001b[0m\u001b[0mfit\u001b[0m\u001b[0;34m(\u001b[0m\u001b[0mX_train\u001b[0m\u001b[0;34m,\u001b[0m \u001b[0;34m**\u001b[0m\u001b[0mfit_params\u001b[0m\u001b[0;34m)\u001b[0m\u001b[0;34m\u001b[0m\u001b[0;34m\u001b[0m\u001b[0m\n\u001b[1;32m    527\u001b[0m         \u001b[0;32melse\u001b[0m\u001b[0;34m:\u001b[0m\u001b[0;34m\u001b[0m\u001b[0;34m\u001b[0m\u001b[0m\n\u001b[0;32m--> 528\u001b[0;31m             \u001b[0mestimator\u001b[0m\u001b[0;34m.\u001b[0m\u001b[0mfit\u001b[0m\u001b[0;34m(\u001b[0m\u001b[0mX_train\u001b[0m\u001b[0;34m,\u001b[0m \u001b[0my_train\u001b[0m\u001b[0;34m,\u001b[0m \u001b[0;34m**\u001b[0m\u001b[0mfit_params\u001b[0m\u001b[0;34m)\u001b[0m\u001b[0;34m\u001b[0m\u001b[0;34m\u001b[0m\u001b[0m\n\u001b[0m\u001b[1;32m    529\u001b[0m \u001b[0;34m\u001b[0m\u001b[0m\n\u001b[1;32m    530\u001b[0m     \u001b[0;32mexcept\u001b[0m \u001b[0mException\u001b[0m \u001b[0;32mas\u001b[0m \u001b[0me\u001b[0m\u001b[0;34m:\u001b[0m\u001b[0;34m\u001b[0m\u001b[0;34m\u001b[0m\u001b[0m\n",
            "\u001b[0;32m/usr/local/lib/python3.6/dist-packages/xgboost/sklearn.py\u001b[0m in \u001b[0;36mfit\u001b[0;34m(self, X, y, sample_weight, eval_set, eval_metric, early_stopping_rounds, verbose, xgb_model)\u001b[0m\n\u001b[1;32m    504\u001b[0m                               \u001b[0mearly_stopping_rounds\u001b[0m\u001b[0;34m=\u001b[0m\u001b[0mearly_stopping_rounds\u001b[0m\u001b[0;34m,\u001b[0m\u001b[0;34m\u001b[0m\u001b[0;34m\u001b[0m\u001b[0m\n\u001b[1;32m    505\u001b[0m                               \u001b[0mevals_result\u001b[0m\u001b[0;34m=\u001b[0m\u001b[0mevals_result\u001b[0m\u001b[0;34m,\u001b[0m \u001b[0mobj\u001b[0m\u001b[0;34m=\u001b[0m\u001b[0mobj\u001b[0m\u001b[0;34m,\u001b[0m \u001b[0mfeval\u001b[0m\u001b[0;34m=\u001b[0m\u001b[0mfeval\u001b[0m\u001b[0;34m,\u001b[0m\u001b[0;34m\u001b[0m\u001b[0;34m\u001b[0m\u001b[0m\n\u001b[0;32m--> 506\u001b[0;31m                               verbose_eval=verbose, xgb_model=None)\n\u001b[0m\u001b[1;32m    507\u001b[0m \u001b[0;34m\u001b[0m\u001b[0m\n\u001b[1;32m    508\u001b[0m         \u001b[0mself\u001b[0m\u001b[0;34m.\u001b[0m\u001b[0mobjective\u001b[0m \u001b[0;34m=\u001b[0m \u001b[0mxgb_options\u001b[0m\u001b[0;34m[\u001b[0m\u001b[0;34m\"objective\"\u001b[0m\u001b[0;34m]\u001b[0m\u001b[0;34m\u001b[0m\u001b[0;34m\u001b[0m\u001b[0m\n",
            "\u001b[0;32m/usr/local/lib/python3.6/dist-packages/xgboost/training.py\u001b[0m in \u001b[0;36mtrain\u001b[0;34m(params, dtrain, num_boost_round, evals, obj, feval, maximize, early_stopping_rounds, evals_result, verbose_eval, xgb_model, callbacks, learning_rates)\u001b[0m\n\u001b[1;32m    202\u001b[0m                            \u001b[0mevals\u001b[0m\u001b[0;34m=\u001b[0m\u001b[0mevals\u001b[0m\u001b[0;34m,\u001b[0m\u001b[0;34m\u001b[0m\u001b[0;34m\u001b[0m\u001b[0m\n\u001b[1;32m    203\u001b[0m                            \u001b[0mobj\u001b[0m\u001b[0;34m=\u001b[0m\u001b[0mobj\u001b[0m\u001b[0;34m,\u001b[0m \u001b[0mfeval\u001b[0m\u001b[0;34m=\u001b[0m\u001b[0mfeval\u001b[0m\u001b[0;34m,\u001b[0m\u001b[0;34m\u001b[0m\u001b[0;34m\u001b[0m\u001b[0m\n\u001b[0;32m--> 204\u001b[0;31m                            xgb_model=xgb_model, callbacks=callbacks)\n\u001b[0m\u001b[1;32m    205\u001b[0m \u001b[0;34m\u001b[0m\u001b[0m\n\u001b[1;32m    206\u001b[0m \u001b[0;34m\u001b[0m\u001b[0m\n",
            "\u001b[0;32m/usr/local/lib/python3.6/dist-packages/xgboost/training.py\u001b[0m in \u001b[0;36m_train_internal\u001b[0;34m(params, dtrain, num_boost_round, evals, obj, feval, xgb_model, callbacks)\u001b[0m\n\u001b[1;32m     72\u001b[0m         \u001b[0;31m# Skip the first update if it is a recovery step.\u001b[0m\u001b[0;34m\u001b[0m\u001b[0;34m\u001b[0m\u001b[0;34m\u001b[0m\u001b[0m\n\u001b[1;32m     73\u001b[0m         \u001b[0;32mif\u001b[0m \u001b[0mversion\u001b[0m \u001b[0;34m%\u001b[0m \u001b[0;36m2\u001b[0m \u001b[0;34m==\u001b[0m \u001b[0;36m0\u001b[0m\u001b[0;34m:\u001b[0m\u001b[0;34m\u001b[0m\u001b[0;34m\u001b[0m\u001b[0m\n\u001b[0;32m---> 74\u001b[0;31m             \u001b[0mbst\u001b[0m\u001b[0;34m.\u001b[0m\u001b[0mupdate\u001b[0m\u001b[0;34m(\u001b[0m\u001b[0mdtrain\u001b[0m\u001b[0;34m,\u001b[0m \u001b[0mi\u001b[0m\u001b[0;34m,\u001b[0m \u001b[0mobj\u001b[0m\u001b[0;34m)\u001b[0m\u001b[0;34m\u001b[0m\u001b[0;34m\u001b[0m\u001b[0m\n\u001b[0m\u001b[1;32m     75\u001b[0m             \u001b[0mbst\u001b[0m\u001b[0;34m.\u001b[0m\u001b[0msave_rabit_checkpoint\u001b[0m\u001b[0;34m(\u001b[0m\u001b[0;34m)\u001b[0m\u001b[0;34m\u001b[0m\u001b[0;34m\u001b[0m\u001b[0m\n\u001b[1;32m     76\u001b[0m             \u001b[0mversion\u001b[0m \u001b[0;34m+=\u001b[0m \u001b[0;36m1\u001b[0m\u001b[0;34m\u001b[0m\u001b[0;34m\u001b[0m\u001b[0m\n",
            "\u001b[0;32m/usr/local/lib/python3.6/dist-packages/xgboost/core.py\u001b[0m in \u001b[0;36mupdate\u001b[0;34m(self, dtrain, iteration, fobj)\u001b[0m\n\u001b[1;32m    896\u001b[0m         \u001b[0;32mif\u001b[0m \u001b[0mfobj\u001b[0m \u001b[0;32mis\u001b[0m \u001b[0;32mNone\u001b[0m\u001b[0;34m:\u001b[0m\u001b[0;34m\u001b[0m\u001b[0;34m\u001b[0m\u001b[0m\n\u001b[1;32m    897\u001b[0m             _check_call(_LIB.XGBoosterUpdateOneIter(self.handle, ctypes.c_int(iteration),\n\u001b[0;32m--> 898\u001b[0;31m                                                     dtrain.handle))\n\u001b[0m\u001b[1;32m    899\u001b[0m         \u001b[0;32melse\u001b[0m\u001b[0;34m:\u001b[0m\u001b[0;34m\u001b[0m\u001b[0;34m\u001b[0m\u001b[0m\n\u001b[1;32m    900\u001b[0m             \u001b[0mpred\u001b[0m \u001b[0;34m=\u001b[0m \u001b[0mself\u001b[0m\u001b[0;34m.\u001b[0m\u001b[0mpredict\u001b[0m\u001b[0;34m(\u001b[0m\u001b[0mdtrain\u001b[0m\u001b[0;34m)\u001b[0m\u001b[0;34m\u001b[0m\u001b[0;34m\u001b[0m\u001b[0m\n",
            "\u001b[0;31mKeyboardInterrupt\u001b[0m: "
          ]
        }
      ]
    },
    {
      "metadata": {
        "id": "liF3nsrquY1m",
        "colab_type": "code",
        "outputId": "8315e079-db52-4ed4-b3d1-5491f1e81032",
        "colab": {
          "base_uri": "https://localhost:8080/",
          "height": 187
        }
      },
      "cell_type": "code",
      "source": [
        "val_scores = []\n",
        "train_scores = []\n",
        "kf = KFold(n_splits = 5 , shuffle =True , random_state = 3939)\n",
        "i =0 \n",
        "for (train_index , val_index) in kf.split(X_train ,Y_train['surface']) :\n",
        "  print(\"FOLD -\",i)\n",
        "  i = i+1\n",
        "  X_train_set  , Y_train_set = X_train.iloc[train_index] , Y_train['surface'].iloc[train_index]\n",
        "  X_val_set , Y_val_set = X_train.iloc[val_index] , Y_train['surface'].iloc[val_index]\n",
        "  \n",
        "  model = xgb.XGBClassifier(learning_rate=0.1, n_estimators=100, max_depth=5, gamma=3, \n",
        "                        objective='multi:softprob', nthread=4,  seed=3939)\n",
        "  #model = RandomForestClassifier(n_estimators = 200 , n_jobs =-1)\n",
        "  #model = KNeighborsClassifier(n_neighbors = 5)  -> need LDA or PCA \n",
        "  #model = LogisticRegression(solver = 'lbfgs', max_iter = 4000 , multi_class = 'multinomial')\n",
        "  model.fit(X_train_set,Y_train_set)\n",
        "  \n",
        "  print('train_score->' , accuracy_score(Y_train_set, model.predict(X_train_set)) , 'val_score-->' , accuracy_score(Y_val_set, model.predict(X_val_set)))\n",
        "    #val_scores.append(accuracy_score(Y_val_set, knn.predict(X_val_set)))\n",
        "    #train_scores.append(accuracy_score(Y_train_set, knn.predict(X_train_set)))"
      ],
      "execution_count": 0,
      "outputs": [
        {
          "output_type": "stream",
          "text": [
            "FOLD - 0\n",
            "train_score-> 0.9763779527559056 val_score--> 0.8818897637795275\n",
            "FOLD - 1\n",
            "train_score-> 0.9740813648293963 val_score--> 0.8858267716535433\n",
            "FOLD - 2\n",
            "train_score-> 0.9776902887139107 val_score--> 0.8569553805774278\n",
            "FOLD - 3\n",
            "train_score-> 0.972769028871391 val_score--> 0.8674540682414699\n",
            "FOLD - 4\n",
            "train_score-> 0.9776902887139107 val_score--> 0.884514435695538\n"
          ],
          "name": "stdout"
        }
      ]
    },
    {
      "metadata": {
        "id": "caVYNbejDZpl",
        "colab_type": "code",
        "colab": {}
      },
      "cell_type": "code",
      "source": [
        "# light gmb submission ---> to be ensembled with xgboost , rf with trained hyperparameters"
      ],
      "execution_count": 0,
      "outputs": []
    },
    {
      "metadata": {
        "id": "9RBTsnUvDido",
        "colab_type": "code",
        "outputId": "2427fcee-ad5f-4180-d632-caadb34ffefd",
        "colab": {
          "base_uri": "https://localhost:8080/",
          "height": 51
        }
      },
      "cell_type": "code",
      "source": [
        "xgb_pred"
      ],
      "execution_count": 0,
      "outputs": [
        {
          "output_type": "execute_result",
          "data": {
            "text/plain": [
              "array(['tiled', 'carpet', 'tiled', ..., 'concrete', 'concrete', 'wood'],\n",
              "      dtype=object)"
            ]
          },
          "metadata": {
            "tags": []
          },
          "execution_count": 81
        }
      ]
    },
    {
      "metadata": {
        "id": "vuag0mJZ2C-q",
        "colab_type": "code",
        "outputId": "79c3977b-5773-4d08-ce0b-a712e823b56d",
        "colab": {
          "base_uri": "https://localhost:8080/",
          "height": 34
        }
      },
      "cell_type": "code",
      "source": [
        "xgb_pred = model.predict(X_test)\n",
        "# encode the prediction \n",
        "decode_dict = {0:'fine_concrete' , 1:'concrete', 2:'soft_tiles', 3:'tiled', 4:'soft_pvc',\n",
        "       5:'hard_tiles_large_space', 6:'carpet', 7:'hard_tiles', 8:'wood'}\n",
        "\n",
        "xgb_pred = [decode_dict[x] for x in xgb_pred]\n",
        "xgb_pred[:5]\n"
      ],
      "execution_count": 0,
      "outputs": [
        {
          "output_type": "execute_result",
          "data": {
            "text/plain": [
              "['tiled', 'carpet', 'tiled', 'carpet', 'soft_tiles']"
            ]
          },
          "metadata": {
            "tags": []
          },
          "execution_count": 21
        }
      ]
    },
    {
      "metadata": {
        "id": "fHPwtpOR2KL7",
        "colab_type": "code",
        "colab": {}
      },
      "cell_type": "code",
      "source": [
        "xgb_v1 = pd.DataFrame({'series_id':X_test.index , 'surface':xgb_pred})\n",
        "xgb_v1.to_csv('xgb_v1.csv',index = False)\n",
        "\n",
        "### this code outputs the prediction from rf which uses 200 n_estimators \n",
        "### probably overfits\n"
      ],
      "execution_count": 0,
      "outputs": []
    },
    {
      "metadata": {
        "id": "ZT3Ar27l3mF2",
        "colab_type": "code",
        "colab": {}
      },
      "cell_type": "code",
      "source": [
        "df1 = pd.read_csv('xgb_v1.csv')\n",
        "df2 = pd.read_csv('rf_kaggle.csv')"
      ],
      "execution_count": 0,
      "outputs": []
    },
    {
      "metadata": {
        "id": "YHEwmGAm31KX",
        "colab_type": "code",
        "outputId": "35cfd3ea-3d46-46eb-d597-892240b6e8b5",
        "colab": {
          "base_uri": "https://localhost:8080/",
          "height": 432
        }
      },
      "cell_type": "code",
      "source": [
        "import seaborn as sns\n",
        "\n",
        "sns.countplot(((df1.surface != df2.surface)))\n"
      ],
      "execution_count": 0,
      "outputs": [
        {
          "output_type": "stream",
          "text": [
            "/usr/local/lib/python3.6/dist-packages/seaborn/categorical.py:1428: FutureWarning: remove_na is deprecated and is a private function. Do not use.\n",
            "  stat_data = remove_na(group_data)\n"
          ],
          "name": "stderr"
        },
        {
          "output_type": "execute_result",
          "data": {
            "text/plain": [
              "<matplotlib.axes._subplots.AxesSubplot at 0x7f9636194908>"
            ]
          },
          "metadata": {
            "tags": []
          },
          "execution_count": 24
        },
        {
          "output_type": "display_data",
          "data": {
            "image/png": "[encoded data removed]",
            "text/plain": [
              "<Figure size 576x396 with 1 Axes>"
            ]
          },
          "metadata": {
            "tags": []
          }
        }
      ]
    },
    {
      "metadata": {
        "id": "CdEJqFDzE8ig",
        "colab_type": "code",
        "colab": {}
      },
      "cell_type": "code",
      "source": [
        ""
      ],
      "execution_count": 0,
      "outputs": []
    }
  ]
}
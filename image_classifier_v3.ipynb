{
  "nbformat": 4,
  "nbformat_minor": 0,
  "metadata": {
    "colab": {
      "name": "image_classifier_v3.ipynb",
      "version": "0.3.2",
      "provenance": [],
      "collapsed_sections": [],
      "include_colab_link": true
    },
    "kernelspec": {
      "name": "python3",
      "display_name": "Python 3"
    },
    "accelerator": "GPU"
  },
  "cells": [
    {
      "cell_type": "markdown",
      "metadata": {
        "id": "view-in-github",
        "colab_type": "text"
      },
      "source": [
        "<a href=\"https://colab.research.google.com/github/pramod1997/FantasyLord/blob/master/image_classifier_v3.ipynb\" target=\"_parent\"><img src=\"https://colab.research.google.com/assets/colab-badge.svg\" alt=\"Open In Colab\"/></a>"
      ]
    },
    {
      "metadata": {
        "id": "KOohXPTUw0ai",
        "colab_type": "code",
        "colab": {}
      },
      "cell_type": "code",
      "source": [
        "# improvement from v1 -> more conv layers with dropouts  \n",
        "# 2st attempt on image classification  cifar10 \n",
        "# \n",
        "# % test accuracy :-< 76\n"
      ],
      "execution_count": 0,
      "outputs": []
    },
    {
      "metadata": {
        "id": "8Dqt_zRJyUZz",
        "colab_type": "code",
        "colab": {
          "base_uri": "https://localhost:8080/",
          "height": 34
        },
        "outputId": "b2aedfcd-47cb-4e11-fe2e-08705e952218"
      },
      "cell_type": "code",
      "source": [
        "import pandas as pd\n",
        "import numpy as np\n",
        "import keras \n",
        "from sklearn.preprocessing import OneHotEncoder\n",
        "from sklearn.preprocessing import StandardScaler\n",
        "import cv2 as cv2"
      ],
      "execution_count": 1,
      "outputs": [
        {
          "output_type": "stream",
          "text": [
            "Using TensorFlow backend.\n"
          ],
          "name": "stderr"
        }
      ]
    },
    {
      "metadata": {
        "id": "lnv_S-jOw9pn",
        "colab_type": "code",
        "colab": {}
      },
      "cell_type": "code",
      "source": [
        "from keras.layers import Dense ,Input , Flatten ,Conv2D ,Activation  , MaxPooling2D , Dropout\n",
        "from keras.models import Sequential"
      ],
      "execution_count": 0,
      "outputs": []
    },
    {
      "metadata": {
        "id": "HL3o9d0Xz4Mg",
        "colab_type": "code",
        "colab": {}
      },
      "cell_type": "code",
      "source": [
        "from keras.datasets import cifar10"
      ],
      "execution_count": 0,
      "outputs": []
    },
    {
      "metadata": {
        "id": "PPnE2GmRsZyK",
        "colab_type": "code",
        "colab": {}
      },
      "cell_type": "code",
      "source": [
        "data_augementation = False  # we will use this later"
      ],
      "execution_count": 0,
      "outputs": []
    },
    {
      "metadata": {
        "id": "BKxq6ZNaxVR0",
        "colab_type": "code",
        "colab": {}
      },
      "cell_type": "code",
      "source": [
        "((train_image , train_labels) , (test_image , test_labels)) = cifar10.load_data()"
      ],
      "execution_count": 0,
      "outputs": []
    },
    {
      "metadata": {
        "id": "QnHvgDBcI9y9",
        "colab_type": "code",
        "colab": {
          "base_uri": "https://localhost:8080/",
          "height": 238
        },
        "outputId": "8f86234f-ccb2-4bcd-8db5-84c3a5ae04c5"
      },
      "cell_type": "code",
      "source": [
        "# eda \n",
        "train_image.shape , test_image.shape  , train_labels , test_labels"
      ],
      "execution_count": 6,
      "outputs": [
        {
          "output_type": "execute_result",
          "data": {
            "text/plain": [
              "((50000, 32, 32, 3), (10000, 32, 32, 3), array([[6],\n",
              "        [9],\n",
              "        [9],\n",
              "        ...,\n",
              "        [9],\n",
              "        [1],\n",
              "        [1]], dtype=uint8), array([[3],\n",
              "        [8],\n",
              "        [8],\n",
              "        ...,\n",
              "        [5],\n",
              "        [1],\n",
              "        [7]]))"
            ]
          },
          "metadata": {
            "tags": []
          },
          "execution_count": 6
        }
      ]
    },
    {
      "metadata": {
        "id": "wOtG03POta8R",
        "colab_type": "code",
        "colab": {}
      },
      "cell_type": "code",
      "source": [
        "train_image = train_image.astype('float32')\n",
        "test_image = test_image.astype('float32')\n",
        "train_image/=255\n",
        "test_image/=255"
      ],
      "execution_count": 0,
      "outputs": []
    },
    {
      "metadata": {
        "id": "ffRorE7_JK3i",
        "colab_type": "code",
        "colab": {
          "base_uri": "https://localhost:8080/",
          "height": 173
        },
        "outputId": "458f2df3-e566-47f0-8a2c-5b30acaeb591"
      },
      "cell_type": "code",
      "source": [
        "from sklearn.preprocessing import OneHotEncoder\n",
        "\n",
        "encoder  = OneHotEncoder()\n",
        "train_labels = encoder.fit_transform(train_labels)\n",
        "test_labels = encoder.fit_transform(test_labels)\n",
        "\n",
        "  "
      ],
      "execution_count": 8,
      "outputs": [
        {
          "output_type": "stream",
          "text": [
            "/usr/local/lib/python3.6/dist-packages/sklearn/preprocessing/_encoders.py:371: FutureWarning: The handling of integer data will change in version 0.22. Currently, the categories are determined based on the range [0, max(values)], while in the future they will be determined based on the unique values.\n",
            "If you want the future behaviour and silence this warning, you can specify \"categories='auto'\".\n",
            "In case you used a LabelEncoder before this OneHotEncoder to convert the categories to integers, then you can now use the OneHotEncoder directly.\n",
            "  warnings.warn(msg, FutureWarning)\n",
            "/usr/local/lib/python3.6/dist-packages/sklearn/preprocessing/_encoders.py:371: FutureWarning: The handling of integer data will change in version 0.22. Currently, the categories are determined based on the range [0, max(values)], while in the future they will be determined based on the unique values.\n",
            "If you want the future behaviour and silence this warning, you can specify \"categories='auto'\".\n",
            "In case you used a LabelEncoder before this OneHotEncoder to convert the categories to integers, then you can now use the OneHotEncoder directly.\n",
            "  warnings.warn(msg, FutureWarning)\n"
          ],
          "name": "stderr"
        }
      ]
    },
    {
      "metadata": {
        "id": "zjcpi2kkxdko",
        "colab_type": "code",
        "colab": {}
      },
      "cell_type": "code",
      "source": [
        "### model \n",
        "model = Sequential()\n",
        "\n",
        "model.add(Conv2D( filters = 32 , kernel_size = (3,3), padding='same' , input_shape=(32,32,3)))\n",
        "model.add(Activation('relu'))\n",
        "\n",
        "model.add(Conv2D( filters = 32 , kernel_size = (3,3), padding='same' ))\n",
        "model.add(Activation('relu'))\n",
        "\n",
        "model.add(MaxPooling2D(pool_size =(2,2)))\n",
        "model.add(Dropout(0.25))\n",
        "\n",
        "model.add(Conv2D( filters = 64 , kernel_size = (3,3), padding='same'))\n",
        "model.add(Activation('relu'))\n",
        "model.add(Conv2D( filters = 64 , kernel_size = (3,3), padding='same'))\n",
        "model.add(Activation('relu'))\n",
        "\n",
        "model.add(MaxPooling2D(pool_size =(2,2)))\n",
        "model.add(Dropout(0.25))\n",
        "\n",
        "\n",
        "\n",
        "\n",
        "model.add(Flatten())\n",
        "\n",
        "model.add(Dense(512, activation = 'relu'))\n",
        "model.add(Dropout(0.5))\n",
        "\n",
        "model.add(Dense(10, activation = 'softmax'))"
      ],
      "execution_count": 0,
      "outputs": []
    },
    {
      "metadata": {
        "id": "hBNUtp8MxsBa",
        "colab_type": "code",
        "colab": {}
      },
      "cell_type": "code",
      "source": [
        "model.compile(optimizer = 'adam' , \n",
        "             loss= 'categorical_crossentropy',\n",
        "             metrics = ['accuracy'])\n"
      ],
      "execution_count": 0,
      "outputs": []
    },
    {
      "metadata": {
        "id": "vF4IECOH_LdY",
        "colab_type": "code",
        "colab": {
          "base_uri": "https://localhost:8080/",
          "height": 680
        },
        "outputId": "2c76263a-7358-402f-ab23-f330bb14bf1a"
      },
      "cell_type": "code",
      "source": [
        "model.summary()"
      ],
      "execution_count": 21,
      "outputs": [
        {
          "output_type": "stream",
          "text": [
            "_________________________________________________________________\n",
            "Layer (type)                 Output Shape              Param #   \n",
            "=================================================================\n",
            "conv2d_7 (Conv2D)            (None, 32, 32, 32)        896       \n",
            "_________________________________________________________________\n",
            "activation_7 (Activation)    (None, 32, 32, 32)        0         \n",
            "_________________________________________________________________\n",
            "conv2d_8 (Conv2D)            (None, 32, 32, 32)        9248      \n",
            "_________________________________________________________________\n",
            "activation_8 (Activation)    (None, 32, 32, 32)        0         \n",
            "_________________________________________________________________\n",
            "max_pooling2d_4 (MaxPooling2 (None, 16, 16, 32)        0         \n",
            "_________________________________________________________________\n",
            "dropout_4 (Dropout)          (None, 16, 16, 32)        0         \n",
            "_________________________________________________________________\n",
            "conv2d_9 (Conv2D)            (None, 16, 16, 64)        18496     \n",
            "_________________________________________________________________\n",
            "activation_9 (Activation)    (None, 16, 16, 64)        0         \n",
            "_________________________________________________________________\n",
            "conv2d_10 (Conv2D)           (None, 16, 16, 64)        36928     \n",
            "_________________________________________________________________\n",
            "activation_10 (Activation)   (None, 16, 16, 64)        0         \n",
            "_________________________________________________________________\n",
            "max_pooling2d_5 (MaxPooling2 (None, 8, 8, 64)          0         \n",
            "_________________________________________________________________\n",
            "dropout_5 (Dropout)          (None, 8, 8, 64)          0         \n",
            "_________________________________________________________________\n",
            "flatten_2 (Flatten)          (None, 4096)              0         \n",
            "_________________________________________________________________\n",
            "dense_3 (Dense)              (None, 512)               2097664   \n",
            "_________________________________________________________________\n",
            "dropout_6 (Dropout)          (None, 512)               0         \n",
            "_________________________________________________________________\n",
            "dense_4 (Dense)              (None, 10)                5130      \n",
            "=================================================================\n",
            "Total params: 2,168,362\n",
            "Trainable params: 2,168,362\n",
            "Non-trainable params: 0\n",
            "_________________________________________________________________\n"
          ],
          "name": "stdout"
        }
      ]
    },
    {
      "metadata": {
        "id": "NHSYn--I_nrY",
        "colab_type": "code",
        "colab": {
          "base_uri": "https://localhost:8080/",
          "height": 34
        },
        "outputId": "ba3b92db-1deb-42e3-cae6-bd071e865c17"
      },
      "cell_type": "code",
      "source": [
        "train_image.shape , train_labels.shape  ## label shape changed for multiclass classification "
      ],
      "execution_count": 14,
      "outputs": [
        {
          "output_type": "execute_result",
          "data": {
            "text/plain": [
              "((50000, 32, 32, 3), (50000, 10))"
            ]
          },
          "metadata": {
            "tags": []
          },
          "execution_count": 14
        }
      ]
    },
    {
      "metadata": {
        "id": "7xPHHVBdycQR",
        "colab_type": "code",
        "colab": {
          "base_uri": "https://localhost:8080/",
          "height": 3434
        },
        "outputId": "b00b0da6-1e89-4032-96e8-f1e7861996f6"
      },
      "cell_type": "code",
      "source": [
        "model.fit(train_image , train_labels, epochs = 100)  ### problem with the shape of train_labels earlier"
      ],
      "execution_count": 22,
      "outputs": [
        {
          "output_type": "stream",
          "text": [
            "Epoch 1/100\n",
            "50000/50000 [==============================] - 25s 492us/step - loss: 1.5428 - acc: 0.4376\n",
            "Epoch 2/100\n",
            "50000/50000 [==============================] - 24s 472us/step - loss: 1.1283 - acc: 0.5962\n",
            "Epoch 3/100\n",
            "50000/50000 [==============================] - 24s 479us/step - loss: 0.9791 - acc: 0.6549\n",
            "Epoch 4/100\n",
            "50000/50000 [==============================] - 24s 477us/step - loss: 0.8795 - acc: 0.6892\n",
            "Epoch 5/100\n",
            "50000/50000 [==============================] - 24s 474us/step - loss: 0.8160 - acc: 0.7109\n",
            "Epoch 6/100\n",
            "50000/50000 [==============================] - 24s 478us/step - loss: 0.7691 - acc: 0.7306\n",
            "Epoch 7/100\n",
            "50000/50000 [==============================] - 24s 477us/step - loss: 0.7196 - acc: 0.7470\n",
            "Epoch 8/100\n",
            "50000/50000 [==============================] - 24s 476us/step - loss: 0.6891 - acc: 0.7579\n",
            "Epoch 9/100\n",
            "50000/50000 [==============================] - 24s 477us/step - loss: 0.6564 - acc: 0.7681\n",
            "Epoch 10/100\n",
            "50000/50000 [==============================] - 24s 477us/step - loss: 0.6361 - acc: 0.7762\n",
            "Epoch 11/100\n",
            "50000/50000 [==============================] - 24s 477us/step - loss: 0.6069 - acc: 0.7862\n",
            "Epoch 12/100\n",
            "50000/50000 [==============================] - 24s 477us/step - loss: 0.5844 - acc: 0.7919\n",
            "Epoch 13/100\n",
            "50000/50000 [==============================] - 24s 474us/step - loss: 0.5685 - acc: 0.7988\n",
            "Epoch 14/100\n",
            "50000/50000 [==============================] - 24s 475us/step - loss: 0.5488 - acc: 0.8077\n",
            "Epoch 15/100\n",
            "50000/50000 [==============================] - 24s 477us/step - loss: 0.5377 - acc: 0.8120\n",
            "Epoch 16/100\n",
            "50000/50000 [==============================] - 24s 477us/step - loss: 0.5253 - acc: 0.8138\n",
            "Epoch 17/100\n",
            "50000/50000 [==============================] - 24s 477us/step - loss: 0.5092 - acc: 0.8211\n",
            "Epoch 18/100\n",
            "50000/50000 [==============================] - 24s 475us/step - loss: 0.5020 - acc: 0.8227\n",
            "Epoch 19/100\n",
            "50000/50000 [==============================] - 24s 476us/step - loss: 0.4827 - acc: 0.8290\n",
            "Epoch 20/100\n",
            "50000/50000 [==============================] - 24s 477us/step - loss: 0.4814 - acc: 0.8297\n",
            "Epoch 21/100\n",
            "50000/50000 [==============================] - 24s 477us/step - loss: 0.4609 - acc: 0.8388\n",
            "Epoch 22/100\n",
            "50000/50000 [==============================] - 24s 476us/step - loss: 0.4541 - acc: 0.8414\n",
            "Epoch 23/100\n",
            "50000/50000 [==============================] - 24s 476us/step - loss: 0.4565 - acc: 0.8375\n",
            "Epoch 24/100\n",
            "50000/50000 [==============================] - 24s 477us/step - loss: 0.4428 - acc: 0.8435\n",
            "Epoch 25/100\n",
            "50000/50000 [==============================] - 24s 476us/step - loss: 0.4381 - acc: 0.8451\n",
            "Epoch 26/100\n",
            "50000/50000 [==============================] - 24s 476us/step - loss: 0.4249 - acc: 0.8499\n",
            "Epoch 27/100\n",
            "50000/50000 [==============================] - 24s 475us/step - loss: 0.4279 - acc: 0.8512\n",
            "Epoch 28/100\n",
            "50000/50000 [==============================] - 24s 476us/step - loss: 0.4136 - acc: 0.8558\n",
            "Epoch 29/100\n",
            "50000/50000 [==============================] - 24s 476us/step - loss: 0.4069 - acc: 0.8582\n",
            "Epoch 30/100\n",
            "50000/50000 [==============================] - 24s 476us/step - loss: 0.4000 - acc: 0.8622\n",
            "Epoch 31/100\n",
            "50000/50000 [==============================] - 24s 474us/step - loss: 0.3999 - acc: 0.8599\n",
            "Epoch 32/100\n",
            "50000/50000 [==============================] - 24s 478us/step - loss: 0.3958 - acc: 0.8627\n",
            "Epoch 33/100\n",
            "50000/50000 [==============================] - 24s 477us/step - loss: 0.3859 - acc: 0.8660\n",
            "Epoch 34/100\n",
            "50000/50000 [==============================] - 24s 472us/step - loss: 0.3933 - acc: 0.8634\n",
            "Epoch 35/100\n",
            "50000/50000 [==============================] - 24s 471us/step - loss: 0.3773 - acc: 0.8693\n",
            "Epoch 36/100\n",
            "50000/50000 [==============================] - 24s 472us/step - loss: 0.3716 - acc: 0.8700\n",
            "Epoch 37/100\n",
            "50000/50000 [==============================] - 24s 471us/step - loss: 0.3725 - acc: 0.8698\n",
            "Epoch 38/100\n",
            "50000/50000 [==============================] - 24s 471us/step - loss: 0.3684 - acc: 0.8722\n",
            "Epoch 39/100\n",
            "50000/50000 [==============================] - 24s 472us/step - loss: 0.3666 - acc: 0.8733\n",
            "Epoch 40/100\n",
            "50000/50000 [==============================] - 24s 472us/step - loss: 0.3614 - acc: 0.8759\n",
            "Epoch 41/100\n",
            "50000/50000 [==============================] - 24s 470us/step - loss: 0.3607 - acc: 0.8762\n",
            "Epoch 42/100\n",
            "50000/50000 [==============================] - 24s 472us/step - loss: 0.3580 - acc: 0.8767\n",
            "Epoch 43/100\n",
            "50000/50000 [==============================] - 23s 470us/step - loss: 0.3536 - acc: 0.8792\n",
            "Epoch 44/100\n",
            "50000/50000 [==============================] - 23s 469us/step - loss: 0.3496 - acc: 0.8796\n",
            "Epoch 45/100\n",
            "50000/50000 [==============================] - 24s 471us/step - loss: 0.3474 - acc: 0.8798\n",
            "Epoch 46/100\n",
            "50000/50000 [==============================] - 24s 471us/step - loss: 0.3412 - acc: 0.8811\n",
            "Epoch 47/100\n",
            "50000/50000 [==============================] - 24s 470us/step - loss: 0.3416 - acc: 0.8825\n",
            "Epoch 48/100\n",
            "50000/50000 [==============================] - 24s 471us/step - loss: 0.3379 - acc: 0.8843\n",
            "Epoch 49/100\n",
            "50000/50000 [==============================] - 24s 471us/step - loss: 0.3349 - acc: 0.8846\n",
            "Epoch 50/100\n",
            "50000/50000 [==============================] - 24s 471us/step - loss: 0.3397 - acc: 0.8836\n",
            "Epoch 51/100\n",
            "50000/50000 [==============================] - 23s 470us/step - loss: 0.3307 - acc: 0.8875\n",
            "Epoch 52/100\n",
            "50000/50000 [==============================] - 24s 471us/step - loss: 0.3304 - acc: 0.8884\n",
            "Epoch 53/100\n",
            "50000/50000 [==============================] - 24s 471us/step - loss: 0.3265 - acc: 0.8871\n",
            "Epoch 54/100\n",
            "50000/50000 [==============================] - 24s 471us/step - loss: 0.3273 - acc: 0.8895\n",
            "Epoch 55/100\n",
            "50000/50000 [==============================] - 23s 470us/step - loss: 0.3318 - acc: 0.8862\n",
            "Epoch 56/100\n",
            "50000/50000 [==============================] - 24s 470us/step - loss: 0.3238 - acc: 0.8893\n",
            "Epoch 57/100\n",
            "50000/50000 [==============================] - 23s 468us/step - loss: 0.3198 - acc: 0.8896\n",
            "Epoch 58/100\n",
            "50000/50000 [==============================] - 24s 471us/step - loss: 0.3270 - acc: 0.8896\n",
            "Epoch 59/100\n",
            "50000/50000 [==============================] - 24s 472us/step - loss: 0.3173 - acc: 0.8928\n",
            "Epoch 60/100\n",
            "50000/50000 [==============================] - 24s 472us/step - loss: 0.3134 - acc: 0.8943\n",
            "Epoch 61/100\n",
            "50000/50000 [==============================] - 24s 471us/step - loss: 0.3152 - acc: 0.8938\n",
            "Epoch 62/100\n",
            "50000/50000 [==============================] - 23s 470us/step - loss: 0.3068 - acc: 0.8955\n",
            "Epoch 63/100\n",
            "50000/50000 [==============================] - 23s 470us/step - loss: 0.3167 - acc: 0.8932\n",
            "Epoch 64/100\n",
            "50000/50000 [==============================] - 24s 471us/step - loss: 0.3107 - acc: 0.8951\n",
            "Epoch 65/100\n",
            "50000/50000 [==============================] - 24s 470us/step - loss: 0.3104 - acc: 0.8952\n",
            "Epoch 66/100\n",
            "50000/50000 [==============================] - 24s 470us/step - loss: 0.3050 - acc: 0.8958\n",
            "Epoch 67/100\n",
            "50000/50000 [==============================] - 24s 472us/step - loss: 0.3047 - acc: 0.8983\n",
            "Epoch 68/100\n",
            "50000/50000 [==============================] - 24s 471us/step - loss: 0.3075 - acc: 0.8964\n",
            "Epoch 69/100\n",
            "50000/50000 [==============================] - 24s 470us/step - loss: 0.3096 - acc: 0.8973\n",
            "Epoch 70/100\n",
            "50000/50000 [==============================] - 23s 469us/step - loss: 0.3002 - acc: 0.8990\n",
            "Epoch 71/100\n",
            "50000/50000 [==============================] - 24s 470us/step - loss: 0.3010 - acc: 0.8990\n",
            "Epoch 72/100\n",
            "50000/50000 [==============================] - 24s 471us/step - loss: 0.2968 - acc: 0.9004\n",
            "Epoch 73/100\n",
            "50000/50000 [==============================] - 24s 472us/step - loss: 0.3000 - acc: 0.8994\n",
            "Epoch 74/100\n",
            "50000/50000 [==============================] - 24s 472us/step - loss: 0.2965 - acc: 0.9015\n",
            "Epoch 75/100\n",
            "50000/50000 [==============================] - 24s 470us/step - loss: 0.2906 - acc: 0.9022\n",
            "Epoch 76/100\n",
            "50000/50000 [==============================] - 24s 470us/step - loss: 0.2890 - acc: 0.9024\n",
            "Epoch 77/100\n",
            "50000/50000 [==============================] - 24s 470us/step - loss: 0.2834 - acc: 0.9061\n",
            "Epoch 78/100\n",
            "50000/50000 [==============================] - 24s 471us/step - loss: 0.2889 - acc: 0.9036\n",
            "Epoch 79/100\n",
            "50000/50000 [==============================] - 24s 472us/step - loss: 0.2985 - acc: 0.9011\n",
            "Epoch 80/100\n",
            "50000/50000 [==============================] - 24s 471us/step - loss: 0.2878 - acc: 0.9027\n",
            "Epoch 81/100\n",
            "50000/50000 [==============================] - 24s 471us/step - loss: 0.2966 - acc: 0.9020\n",
            "Epoch 82/100\n",
            "50000/50000 [==============================] - 23s 469us/step - loss: 0.2813 - acc: 0.9054\n",
            "Epoch 83/100\n",
            "50000/50000 [==============================] - 23s 468us/step - loss: 0.2935 - acc: 0.9021\n",
            "Epoch 84/100\n",
            "50000/50000 [==============================] - 23s 469us/step - loss: 0.2831 - acc: 0.9058\n",
            "Epoch 85/100\n",
            "50000/50000 [==============================] - 23s 467us/step - loss: 0.2877 - acc: 0.9042\n",
            "Epoch 86/100\n",
            "50000/50000 [==============================] - 23s 468us/step - loss: 0.2807 - acc: 0.9061\n",
            "Epoch 87/100\n",
            "50000/50000 [==============================] - 23s 467us/step - loss: 0.2914 - acc: 0.9047\n",
            "Epoch 88/100\n",
            "50000/50000 [==============================] - 23s 467us/step - loss: 0.2790 - acc: 0.9060\n",
            "Epoch 89/100\n",
            "50000/50000 [==============================] - 23s 466us/step - loss: 0.2834 - acc: 0.9048\n",
            "Epoch 90/100\n",
            "50000/50000 [==============================] - 23s 467us/step - loss: 0.2827 - acc: 0.9055\n",
            "Epoch 91/100\n",
            "50000/50000 [==============================] - 23s 467us/step - loss: 0.2810 - acc: 0.9081\n",
            "Epoch 92/100\n",
            "50000/50000 [==============================] - 23s 466us/step - loss: 0.2756 - acc: 0.9078\n",
            "Epoch 93/100\n",
            "50000/50000 [==============================] - 23s 466us/step - loss: 0.2802 - acc: 0.9051\n",
            "Epoch 94/100\n",
            "50000/50000 [==============================] - 23s 467us/step - loss: 0.2729 - acc: 0.9080\n",
            "Epoch 95/100\n",
            "50000/50000 [==============================] - 23s 468us/step - loss: 0.2759 - acc: 0.9088\n",
            "Epoch 96/100\n",
            "50000/50000 [==============================] - 23s 467us/step - loss: 0.2818 - acc: 0.9067\n",
            "Epoch 97/100\n",
            "50000/50000 [==============================] - 23s 465us/step - loss: 0.2771 - acc: 0.9082\n",
            "Epoch 98/100\n",
            "50000/50000 [==============================] - 23s 467us/step - loss: 0.2794 - acc: 0.9089\n",
            "Epoch 99/100\n",
            "50000/50000 [==============================] - 23s 467us/step - loss: 0.2762 - acc: 0.9081\n",
            "Epoch 100/100\n",
            "50000/50000 [==============================] - 23s 468us/step - loss: 0.2768 - acc: 0.9080\n"
          ],
          "name": "stdout"
        },
        {
          "output_type": "execute_result",
          "data": {
            "text/plain": [
              "<keras.callbacks.History at 0x7f72cf6f36a0>"
            ]
          },
          "metadata": {
            "tags": []
          },
          "execution_count": 22
        }
      ]
    },
    {
      "metadata": {
        "id": "hZjrf1owzIQ9",
        "colab_type": "code",
        "colab": {
          "base_uri": "https://localhost:8080/",
          "height": 34
        },
        "outputId": "ddde8526-0951-426e-cb0a-302dc1eb38e6"
      },
      "cell_type": "code",
      "source": [
        "test_loss , test_acc = model.evaluate(test_image , test_labels)"
      ],
      "execution_count": 16,
      "outputs": [
        {
          "output_type": "stream",
          "text": [
            "10000/10000 [==============================] - 2s 174us/step\n"
          ],
          "name": "stdout"
        }
      ]
    },
    {
      "metadata": {
        "id": "87qZ2oLZ1Tzv",
        "colab_type": "code",
        "colab": {
          "base_uri": "https://localhost:8080/",
          "height": 34
        },
        "outputId": "b3eee3eb-c0c2-49f1-981a-05a7a13d3edd"
      },
      "cell_type": "code",
      "source": [
        "test_loss , test_acc\n",
        "\n"
      ],
      "execution_count": 17,
      "outputs": [
        {
          "output_type": "execute_result",
          "data": {
            "text/plain": [
              "(0.7069581887722015, 0.7638)"
            ]
          },
          "metadata": {
            "tags": []
          },
          "execution_count": 17
        }
      ]
    },
    {
      "metadata": {
        "id": "UDwJNpm_16jX",
        "colab_type": "code",
        "colab": {}
      },
      "cell_type": "code",
      "source": [
        ""
      ],
      "execution_count": 0,
      "outputs": []
    }
  ]
}